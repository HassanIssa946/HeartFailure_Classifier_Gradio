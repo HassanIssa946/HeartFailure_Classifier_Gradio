{
 "cells": [
  {
   "cell_type": "code",
   "execution_count": 34,
   "metadata": {},
   "outputs": [],
   "source": [
    "import pandas as pd\n",
    "import numpy as np \n",
    "import matplotlib.pyplot as plt \n",
    "from sklearn.model_selection import train_test_split\n",
    "from sklearn.linear_model import LogisticRegression\n",
    "from sklearn.preprocessing import StandardScaler\n",
    "import gradio as gr "
   ]
  },
  {
   "cell_type": "code",
   "execution_count": 35,
   "metadata": {},
   "outputs": [
    {
     "name": "stdout",
     "output_type": "stream",
     "text": [
      "(299, 13)\n",
      "Index(['age', 'anaemia', 'creatinine_phosphokinase', 'diabetes',\n",
      "       'ejection_fraction', 'high_blood_pressure', 'platelets',\n",
      "       'serum_creatinine', 'serum_sodium', 'sex', 'smoking', 'time',\n",
      "       'DEATH_EVENT'],\n",
      "      dtype='object')\n"
     ]
    }
   ],
   "source": [
    "data= pd.read_csv(r\"heart_failure_clinical_records_dataset.csv")\n", 
    "\n",
    "print(data.shape)\n",
    "print(data.columns)\n",
    "\n",
    "x=data.iloc[:,:-1]\n",
    "y=data.iloc[:,-1]"
   ]
  },
  {
   "cell_type": "code",
   "execution_count": 36,
   "metadata": {},
   "outputs": [
    {
     "name": "stdout",
     "output_type": "stream",
     "text": [
      "Training accuracy: 0.8242677824267782\n",
      "Testing accuracy: 0.9166666666666666\n"
     ]
    }
   ],
   "source": [
    "x_train , x_test ,y_train ,y_test = train_test_split(x,y,train_size=0.8)\n",
    "\n",
    "scaler = StandardScaler()\n",
    "x_train_scaled = scaler.fit_transform(x_train)\n",
    "x_test_scaled = scaler.transform(x_test)\n",
    "\n",
    "m = LogisticRegression(solver='lbfgs', max_iter=1000)\n",
    "m.fit(x_train_scaled, y_train)\n",
    "\n",
    "# Print the accuracy of the model\n",
    "print(\"Training accuracy:\", m.score(x_train_scaled, y_train))\n",
    "print(\"Testing accuracy:\", m.score(x_test_scaled, y_test))"
   ]
  },
  {
   "cell_type": "code",
   "execution_count": 37,
   "metadata": {},
   "outputs": [
    {
     "name": "stdout",
     "output_type": "stream",
     "text": [
      "Running on local URL:  http://127.0.0.1:7865\n",
      "\n",
      "To create a public link, set `share=True` in `launch()`.\n"
     ]
    },
    {
     "data": {
      "text/html": [
       "<div><iframe src=\"http://127.0.0.1:7865/\" width=\"100%\" height=\"500\" allow=\"autoplay; camera; microphone; clipboard-read; clipboard-write;\" frameborder=\"0\" allowfullscreen></iframe></div>"
      ],
      "text/plain": [
       "<IPython.core.display.HTML object>"
      ]
     },
     "metadata": {},
     "output_type": "display_data"
    },
    {
     "data": {
      "text/plain": []
     },
     "execution_count": 37,
     "metadata": {},
     "output_type": "execute_result"
    },
    {
     "name": "stderr",
     "output_type": "stream",
     "text": [
      "C:\\Users\\Hassan\\Desktop\\Classification\\Lib\\site-packages\\sklearn\\base.py:493: UserWarning: X does not have valid feature names, but StandardScaler was fitted with feature names\n",
      "  warnings.warn(\n"
     ]
    }
   ],
   "source": [
    "def predict_heart_failure(age, anaemia, creatinine_phosphokinase, diabetes,\n",
    "                          ejection_fraction, high_blood_pressure, platelets, \n",
    "                          serum_creatinine, serum_sodium, sex, smoking, time):\n",
    "\n",
    "    sex = 1 if sex == 'Male' else 0\n",
    "    smoking = 1 if smoking else 0\n",
    "    anaemia = 1 if anaemia else 0\n",
    "    diabetes = 1 if diabetes else 0\n",
    "    high_blood_pressure = 1 if high_blood_pressure else 0\n",
    "    \n",
    "    input_data = np.array([[age, anaemia, creatinine_phosphokinase, diabetes, \n",
    "                            ejection_fraction, high_blood_pressure, platelets, \n",
    "                            serum_creatinine, serum_sodium, sex, smoking, time]])\n",
    "    input_data_scaled = scaler.transform(input_data)\n",
    "    prediction = m.predict(input_data_scaled)\n",
    "    return \"No Heart Failure\" if prediction[0] == 0 else \"Heart Failure\"\n",
    "\n",
    "# Define the Gradio interface\n",
    "inputs = [\n",
    "    gr.Number(label=\"Age\"),\n",
    "    gr.Checkbox(label=\"Anaemia\"),\n",
    "    gr.Number(label=\"Creatinine Phosphokinase\"),\n",
    "    gr.Checkbox(label=\"Diabetes\"),\n",
    "    gr.Number(label=\"Ejection Fraction\"),\n",
    "    gr.Checkbox(label=\"High Blood Pressure\"),\n",
    "    gr.Number(label=\"Platelets\"),\n",
    "    gr.Number(label=\"Serum Creatinine\"),\n",
    "    gr.Number(label=\"Serum Sodium\"),\n",
    "    gr.Radio(['Male', 'Female'], label=\"Sex\"),\n",
    "    gr.Checkbox(label=\"Smoking\"),\n",
    "    gr.Number(label=\"Follow-up Time\")\n",
    "]\n",
    "\n",
    "outputs = gr.Textbox(label=\"Prediction\")\n",
    "\n",
    "title = \"Heart Failure Test\"\n",
    "description = \"This application predicts the likelihood of heart failure based on clinical records.\"\n",
    "\n",
    "interface = gr.Interface(\n",
    "    fn=predict_heart_failure, \n",
    "    inputs=inputs, \n",
    "    outputs=outputs, \n",
    "    title=title,\n",
    "    description=description,\n",
    "    theme=\"default\",\n",
    "    css=\".gradio-container { background-color: #ffffff; font-family: 'Arial', sans-serif; } \\\n",
    "         .gradio-container h1 { color: #0068ff; } \\\n",
    "         .gradio-container .label { color: #0068ff; }\"\n",
    ")\n",
    "\n",
    "# Launch the interface\n",
    "interface.launch()"
   ]
  },
  {
   "cell_type": "code",
   "execution_count": null,
   "metadata": {},
   "outputs": [],
   "source": []
  }
 ],
 "metadata": {
  "kernelspec": {
   "display_name": "Python 3 (ipykernel)",
   "language": "python",
   "name": "python3"
  },
  "language_info": {
   "codemirror_mode": {
    "name": "ipython",
    "version": 3
   },
   "file_extension": ".py",
   "mimetype": "text/x-python",
   "name": "python",
   "nbconvert_exporter": "python",
   "pygments_lexer": "ipython3",
   "version": "3.11.5"
  }
 },
 "nbformat": 4,
 "nbformat_minor": 4
}
